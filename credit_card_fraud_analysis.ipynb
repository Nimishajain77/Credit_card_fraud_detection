{
  "nbformat": 4,
  "nbformat_minor": 0,
  "metadata": {
    "colab": {
      "name": "19_d6ad_Miniproject_python.ipynb",
      "provenance": [],
      "collapsed_sections": []
    },
    "kernelspec": {
      "name": "python3",
      "display_name": "Python 3"
    },
    "language_info": {
      "name": "python"
    }
  },
  "cells": [
    {
      "cell_type": "code",
      "execution_count": null,
      "metadata": {
        "id": "B-cNox1cuuSt"
      },
      "outputs": [],
      "source": [
        "import numpy as np\n",
        "import pandas as pd\n",
        "from sklearn.model_selection import train_test_split\n",
        "from sklearn.linear_model import LogisticRegression\n",
        "\n",
        "import matplotlib.pyplot as plt\n",
        "\n",
        "from sklearn.metrics import classification_report, accuracy_score\n"
      ]
    },
    {
      "cell_type": "code",
      "source": [
        "# loading the dataset to a Pandas DataFrame\n",
        "credit_card_data = pd.read_csv('/content/creditcard.csv')"
      ],
      "metadata": {
        "id": "YIBG66thxhAd"
      },
      "execution_count": null,
      "outputs": []
    },
    {
      "cell_type": "code",
      "source": [
        "# first 5 rows of the dataset\n",
        "credit_card_data.head()"
      ],
      "metadata": {
        "colab": {
          "base_uri": "https://localhost:8080/",
          "height": 300
        },
        "id": "UdavZxYdxrXF",
        "outputId": "70f90a4b-d731-4849-87ce-1f29ef394577"
      },
      "execution_count": null,
      "outputs": [
        {
          "output_type": "execute_result",
          "data": {
            "text/plain": [
              "   Time        V1        V2        V3        V4        V5        V6        V7  \\\n",
              "0     0 -1.359807 -0.072781  2.536347  1.378155 -0.338321  0.462388  0.239599   \n",
              "1     0  1.191857  0.266151  0.166480  0.448154  0.060018 -0.082361 -0.078803   \n",
              "2     1 -1.358354 -1.340163  1.773209  0.379780 -0.503198  1.800499  0.791461   \n",
              "3     1 -0.966272 -0.185226  1.792993 -0.863291 -0.010309  1.247203  0.237609   \n",
              "4     2 -1.158233  0.877737  1.548718  0.403034 -0.407193  0.095921  0.592941   \n",
              "\n",
              "         V8        V9  ...       V21       V22       V23       V24       V25  \\\n",
              "0  0.098698  0.363787  ... -0.018307  0.277838 -0.110474  0.066928  0.128539   \n",
              "1  0.085102 -0.255425  ... -0.225775 -0.638672  0.101288 -0.339846  0.167170   \n",
              "2  0.247676 -1.514654  ...  0.247998  0.771679  0.909412 -0.689281 -0.327642   \n",
              "3  0.377436 -1.387024  ... -0.108300  0.005274 -0.190321 -1.175575  0.647376   \n",
              "4 -0.270533  0.817739  ... -0.009431  0.798278 -0.137458  0.141267 -0.206010   \n",
              "\n",
              "        V26       V27       V28  Amount  Class  \n",
              "0 -0.189115  0.133558 -0.021053  149.62    0.0  \n",
              "1  0.125895 -0.008983  0.014724    2.69    0.0  \n",
              "2 -0.139097 -0.055353 -0.059752  378.66    0.0  \n",
              "3 -0.221929  0.062723  0.061458  123.50    0.0  \n",
              "4  0.502292  0.219422  0.215153   69.99    0.0  \n",
              "\n",
              "[5 rows x 31 columns]"
            ],
            "text/html": [
              "\n",
              "  <div id=\"df-a3912f0d-af92-428e-b4fb-1ee066042b60\">\n",
              "    <div class=\"colab-df-container\">\n",
              "      <div>\n",
              "<style scoped>\n",
              "    .dataframe tbody tr th:only-of-type {\n",
              "        vertical-align: middle;\n",
              "    }\n",
              "\n",
              "    .dataframe tbody tr th {\n",
              "        vertical-align: top;\n",
              "    }\n",
              "\n",
              "    .dataframe thead th {\n",
              "        text-align: right;\n",
              "    }\n",
              "</style>\n",
              "<table border=\"1\" class=\"dataframe\">\n",
              "  <thead>\n",
              "    <tr style=\"text-align: right;\">\n",
              "      <th></th>\n",
              "      <th>Time</th>\n",
              "      <th>V1</th>\n",
              "      <th>V2</th>\n",
              "      <th>V3</th>\n",
              "      <th>V4</th>\n",
              "      <th>V5</th>\n",
              "      <th>V6</th>\n",
              "      <th>V7</th>\n",
              "      <th>V8</th>\n",
              "      <th>V9</th>\n",
              "      <th>...</th>\n",
              "      <th>V21</th>\n",
              "      <th>V22</th>\n",
              "      <th>V23</th>\n",
              "      <th>V24</th>\n",
              "      <th>V25</th>\n",
              "      <th>V26</th>\n",
              "      <th>V27</th>\n",
              "      <th>V28</th>\n",
              "      <th>Amount</th>\n",
              "      <th>Class</th>\n",
              "    </tr>\n",
              "  </thead>\n",
              "  <tbody>\n",
              "    <tr>\n",
              "      <th>0</th>\n",
              "      <td>0</td>\n",
              "      <td>-1.359807</td>\n",
              "      <td>-0.072781</td>\n",
              "      <td>2.536347</td>\n",
              "      <td>1.378155</td>\n",
              "      <td>-0.338321</td>\n",
              "      <td>0.462388</td>\n",
              "      <td>0.239599</td>\n",
              "      <td>0.098698</td>\n",
              "      <td>0.363787</td>\n",
              "      <td>...</td>\n",
              "      <td>-0.018307</td>\n",
              "      <td>0.277838</td>\n",
              "      <td>-0.110474</td>\n",
              "      <td>0.066928</td>\n",
              "      <td>0.128539</td>\n",
              "      <td>-0.189115</td>\n",
              "      <td>0.133558</td>\n",
              "      <td>-0.021053</td>\n",
              "      <td>149.62</td>\n",
              "      <td>0.0</td>\n",
              "    </tr>\n",
              "    <tr>\n",
              "      <th>1</th>\n",
              "      <td>0</td>\n",
              "      <td>1.191857</td>\n",
              "      <td>0.266151</td>\n",
              "      <td>0.166480</td>\n",
              "      <td>0.448154</td>\n",
              "      <td>0.060018</td>\n",
              "      <td>-0.082361</td>\n",
              "      <td>-0.078803</td>\n",
              "      <td>0.085102</td>\n",
              "      <td>-0.255425</td>\n",
              "      <td>...</td>\n",
              "      <td>-0.225775</td>\n",
              "      <td>-0.638672</td>\n",
              "      <td>0.101288</td>\n",
              "      <td>-0.339846</td>\n",
              "      <td>0.167170</td>\n",
              "      <td>0.125895</td>\n",
              "      <td>-0.008983</td>\n",
              "      <td>0.014724</td>\n",
              "      <td>2.69</td>\n",
              "      <td>0.0</td>\n",
              "    </tr>\n",
              "    <tr>\n",
              "      <th>2</th>\n",
              "      <td>1</td>\n",
              "      <td>-1.358354</td>\n",
              "      <td>-1.340163</td>\n",
              "      <td>1.773209</td>\n",
              "      <td>0.379780</td>\n",
              "      <td>-0.503198</td>\n",
              "      <td>1.800499</td>\n",
              "      <td>0.791461</td>\n",
              "      <td>0.247676</td>\n",
              "      <td>-1.514654</td>\n",
              "      <td>...</td>\n",
              "      <td>0.247998</td>\n",
              "      <td>0.771679</td>\n",
              "      <td>0.909412</td>\n",
              "      <td>-0.689281</td>\n",
              "      <td>-0.327642</td>\n",
              "      <td>-0.139097</td>\n",
              "      <td>-0.055353</td>\n",
              "      <td>-0.059752</td>\n",
              "      <td>378.66</td>\n",
              "      <td>0.0</td>\n",
              "    </tr>\n",
              "    <tr>\n",
              "      <th>3</th>\n",
              "      <td>1</td>\n",
              "      <td>-0.966272</td>\n",
              "      <td>-0.185226</td>\n",
              "      <td>1.792993</td>\n",
              "      <td>-0.863291</td>\n",
              "      <td>-0.010309</td>\n",
              "      <td>1.247203</td>\n",
              "      <td>0.237609</td>\n",
              "      <td>0.377436</td>\n",
              "      <td>-1.387024</td>\n",
              "      <td>...</td>\n",
              "      <td>-0.108300</td>\n",
              "      <td>0.005274</td>\n",
              "      <td>-0.190321</td>\n",
              "      <td>-1.175575</td>\n",
              "      <td>0.647376</td>\n",
              "      <td>-0.221929</td>\n",
              "      <td>0.062723</td>\n",
              "      <td>0.061458</td>\n",
              "      <td>123.50</td>\n",
              "      <td>0.0</td>\n",
              "    </tr>\n",
              "    <tr>\n",
              "      <th>4</th>\n",
              "      <td>2</td>\n",
              "      <td>-1.158233</td>\n",
              "      <td>0.877737</td>\n",
              "      <td>1.548718</td>\n",
              "      <td>0.403034</td>\n",
              "      <td>-0.407193</td>\n",
              "      <td>0.095921</td>\n",
              "      <td>0.592941</td>\n",
              "      <td>-0.270533</td>\n",
              "      <td>0.817739</td>\n",
              "      <td>...</td>\n",
              "      <td>-0.009431</td>\n",
              "      <td>0.798278</td>\n",
              "      <td>-0.137458</td>\n",
              "      <td>0.141267</td>\n",
              "      <td>-0.206010</td>\n",
              "      <td>0.502292</td>\n",
              "      <td>0.219422</td>\n",
              "      <td>0.215153</td>\n",
              "      <td>69.99</td>\n",
              "      <td>0.0</td>\n",
              "    </tr>\n",
              "  </tbody>\n",
              "</table>\n",
              "<p>5 rows × 31 columns</p>\n",
              "</div>\n",
              "      <button class=\"colab-df-convert\" onclick=\"convertToInteractive('df-a3912f0d-af92-428e-b4fb-1ee066042b60')\"\n",
              "              title=\"Convert this dataframe to an interactive table.\"\n",
              "              style=\"display:none;\">\n",
              "        \n",
              "  <svg xmlns=\"http://www.w3.org/2000/svg\" height=\"24px\"viewBox=\"0 0 24 24\"\n",
              "       width=\"24px\">\n",
              "    <path d=\"M0 0h24v24H0V0z\" fill=\"none\"/>\n",
              "    <path d=\"M18.56 5.44l.94 2.06.94-2.06 2.06-.94-2.06-.94-.94-2.06-.94 2.06-2.06.94zm-11 1L8.5 8.5l.94-2.06 2.06-.94-2.06-.94L8.5 2.5l-.94 2.06-2.06.94zm10 10l.94 2.06.94-2.06 2.06-.94-2.06-.94-.94-2.06-.94 2.06-2.06.94z\"/><path d=\"M17.41 7.96l-1.37-1.37c-.4-.4-.92-.59-1.43-.59-.52 0-1.04.2-1.43.59L10.3 9.45l-7.72 7.72c-.78.78-.78 2.05 0 2.83L4 21.41c.39.39.9.59 1.41.59.51 0 1.02-.2 1.41-.59l7.78-7.78 2.81-2.81c.8-.78.8-2.07 0-2.86zM5.41 20L4 18.59l7.72-7.72 1.47 1.35L5.41 20z\"/>\n",
              "  </svg>\n",
              "      </button>\n",
              "      \n",
              "  <style>\n",
              "    .colab-df-container {\n",
              "      display:flex;\n",
              "      flex-wrap:wrap;\n",
              "      gap: 12px;\n",
              "    }\n",
              "\n",
              "    .colab-df-convert {\n",
              "      background-color: #E8F0FE;\n",
              "      border: none;\n",
              "      border-radius: 50%;\n",
              "      cursor: pointer;\n",
              "      display: none;\n",
              "      fill: #1967D2;\n",
              "      height: 32px;\n",
              "      padding: 0 0 0 0;\n",
              "      width: 32px;\n",
              "    }\n",
              "\n",
              "    .colab-df-convert:hover {\n",
              "      background-color: #E2EBFA;\n",
              "      box-shadow: 0px 1px 2px rgba(60, 64, 67, 0.3), 0px 1px 3px 1px rgba(60, 64, 67, 0.15);\n",
              "      fill: #174EA6;\n",
              "    }\n",
              "\n",
              "    [theme=dark] .colab-df-convert {\n",
              "      background-color: #3B4455;\n",
              "      fill: #D2E3FC;\n",
              "    }\n",
              "\n",
              "    [theme=dark] .colab-df-convert:hover {\n",
              "      background-color: #434B5C;\n",
              "      box-shadow: 0px 1px 3px 1px rgba(0, 0, 0, 0.15);\n",
              "      filter: drop-shadow(0px 1px 2px rgba(0, 0, 0, 0.3));\n",
              "      fill: #FFFFFF;\n",
              "    }\n",
              "  </style>\n",
              "\n",
              "      <script>\n",
              "        const buttonEl =\n",
              "          document.querySelector('#df-a3912f0d-af92-428e-b4fb-1ee066042b60 button.colab-df-convert');\n",
              "        buttonEl.style.display =\n",
              "          google.colab.kernel.accessAllowed ? 'block' : 'none';\n",
              "\n",
              "        async function convertToInteractive(key) {\n",
              "          const element = document.querySelector('#df-a3912f0d-af92-428e-b4fb-1ee066042b60');\n",
              "          const dataTable =\n",
              "            await google.colab.kernel.invokeFunction('convertToInteractive',\n",
              "                                                     [key], {});\n",
              "          if (!dataTable) return;\n",
              "\n",
              "          const docLinkHtml = 'Like what you see? Visit the ' +\n",
              "            '<a target=\"_blank\" href=https://colab.research.google.com/notebooks/data_table.ipynb>data table notebook</a>'\n",
              "            + ' to learn more about interactive tables.';\n",
              "          element.innerHTML = '';\n",
              "          dataTable['output_type'] = 'display_data';\n",
              "          await google.colab.output.renderOutput(dataTable, element);\n",
              "          const docLink = document.createElement('div');\n",
              "          docLink.innerHTML = docLinkHtml;\n",
              "          element.appendChild(docLink);\n",
              "        }\n",
              "      </script>\n",
              "    </div>\n",
              "  </div>\n",
              "  "
            ]
          },
          "metadata": {},
          "execution_count": 3
        }
      ]
    },
    {
      "cell_type": "code",
      "source": [
        "# last 5 rows of the dataset\n",
        "credit_card_data.tail()"
      ],
      "metadata": {
        "colab": {
          "base_uri": "https://localhost:8080/",
          "height": 300
        },
        "id": "uFvf1IlxxuoM",
        "outputId": "928cb450-9f7b-4d04-97c9-7119d077975d"
      },
      "execution_count": null,
      "outputs": [
        {
          "output_type": "execute_result",
          "data": {
            "text/plain": [
              "        Time        V1        V2        V3        V4        V5        V6  \\\n",
              "83274  59766 -0.465927  0.740705  1.731343  0.036013  0.098876  0.055606   \n",
              "83275  59767 -0.725577  0.379742  1.468039  1.356958  0.546077  0.109718   \n",
              "83276  59768 -1.711347  1.308095 -0.232786 -1.607585 -1.299910 -0.627938   \n",
              "83277  59768  1.471591 -1.234024  0.279178 -1.595504 -1.344324 -0.101130   \n",
              "83278  59769  1.135220  0.124163  0.109082  0.902728  0.038998  0.004539   \n",
              "\n",
              "             V7        V8        V9  ...       V21       V22       V23  \\\n",
              "83274  0.472815  0.134921 -0.302919  ...  0.032294  0.287631 -0.337062   \n",
              "83275  0.416071  0.180774 -0.273686  ...  0.006224  0.017405 -0.101053   \n",
              "83276 -1.562053 -1.722859 -1.534618  ... -0.902970  1.269219  0.178712   \n",
              "83277 -1.249330  0.030445 -1.813220  ...  0.000785  0.310947 -0.194016   \n",
              "83278  0.007332  0.113029 -0.000000  ...       NaN       NaN       NaN   \n",
              "\n",
              "            V24       V25       V26       V27       V28  Amount  Class  \n",
              "83274  0.079929  0.091760  0.396666  0.078020  0.093914    1.00    0.0  \n",
              "83275 -0.294967  0.164357 -0.166337  0.114452  0.115366   46.96    0.0  \n",
              "83276  0.527195 -0.313104 -0.365365  0.216308  0.181065   10.00    0.0  \n",
              "83277 -0.504003  0.513079  0.008417  0.029493  0.007596   40.00    0.0  \n",
              "83278       NaN       NaN       NaN       NaN       NaN     NaN    NaN  \n",
              "\n",
              "[5 rows x 31 columns]"
            ],
            "text/html": [
              "\n",
              "  <div id=\"df-43babfa1-7113-4754-a914-6bb42f0f9ad3\">\n",
              "    <div class=\"colab-df-container\">\n",
              "      <div>\n",
              "<style scoped>\n",
              "    .dataframe tbody tr th:only-of-type {\n",
              "        vertical-align: middle;\n",
              "    }\n",
              "\n",
              "    .dataframe tbody tr th {\n",
              "        vertical-align: top;\n",
              "    }\n",
              "\n",
              "    .dataframe thead th {\n",
              "        text-align: right;\n",
              "    }\n",
              "</style>\n",
              "<table border=\"1\" class=\"dataframe\">\n",
              "  <thead>\n",
              "    <tr style=\"text-align: right;\">\n",
              "      <th></th>\n",
              "      <th>Time</th>\n",
              "      <th>V1</th>\n",
              "      <th>V2</th>\n",
              "      <th>V3</th>\n",
              "      <th>V4</th>\n",
              "      <th>V5</th>\n",
              "      <th>V6</th>\n",
              "      <th>V7</th>\n",
              "      <th>V8</th>\n",
              "      <th>V9</th>\n",
              "      <th>...</th>\n",
              "      <th>V21</th>\n",
              "      <th>V22</th>\n",
              "      <th>V23</th>\n",
              "      <th>V24</th>\n",
              "      <th>V25</th>\n",
              "      <th>V26</th>\n",
              "      <th>V27</th>\n",
              "      <th>V28</th>\n",
              "      <th>Amount</th>\n",
              "      <th>Class</th>\n",
              "    </tr>\n",
              "  </thead>\n",
              "  <tbody>\n",
              "    <tr>\n",
              "      <th>83274</th>\n",
              "      <td>59766</td>\n",
              "      <td>-0.465927</td>\n",
              "      <td>0.740705</td>\n",
              "      <td>1.731343</td>\n",
              "      <td>0.036013</td>\n",
              "      <td>0.098876</td>\n",
              "      <td>0.055606</td>\n",
              "      <td>0.472815</td>\n",
              "      <td>0.134921</td>\n",
              "      <td>-0.302919</td>\n",
              "      <td>...</td>\n",
              "      <td>0.032294</td>\n",
              "      <td>0.287631</td>\n",
              "      <td>-0.337062</td>\n",
              "      <td>0.079929</td>\n",
              "      <td>0.091760</td>\n",
              "      <td>0.396666</td>\n",
              "      <td>0.078020</td>\n",
              "      <td>0.093914</td>\n",
              "      <td>1.00</td>\n",
              "      <td>0.0</td>\n",
              "    </tr>\n",
              "    <tr>\n",
              "      <th>83275</th>\n",
              "      <td>59767</td>\n",
              "      <td>-0.725577</td>\n",
              "      <td>0.379742</td>\n",
              "      <td>1.468039</td>\n",
              "      <td>1.356958</td>\n",
              "      <td>0.546077</td>\n",
              "      <td>0.109718</td>\n",
              "      <td>0.416071</td>\n",
              "      <td>0.180774</td>\n",
              "      <td>-0.273686</td>\n",
              "      <td>...</td>\n",
              "      <td>0.006224</td>\n",
              "      <td>0.017405</td>\n",
              "      <td>-0.101053</td>\n",
              "      <td>-0.294967</td>\n",
              "      <td>0.164357</td>\n",
              "      <td>-0.166337</td>\n",
              "      <td>0.114452</td>\n",
              "      <td>0.115366</td>\n",
              "      <td>46.96</td>\n",
              "      <td>0.0</td>\n",
              "    </tr>\n",
              "    <tr>\n",
              "      <th>83276</th>\n",
              "      <td>59768</td>\n",
              "      <td>-1.711347</td>\n",
              "      <td>1.308095</td>\n",
              "      <td>-0.232786</td>\n",
              "      <td>-1.607585</td>\n",
              "      <td>-1.299910</td>\n",
              "      <td>-0.627938</td>\n",
              "      <td>-1.562053</td>\n",
              "      <td>-1.722859</td>\n",
              "      <td>-1.534618</td>\n",
              "      <td>...</td>\n",
              "      <td>-0.902970</td>\n",
              "      <td>1.269219</td>\n",
              "      <td>0.178712</td>\n",
              "      <td>0.527195</td>\n",
              "      <td>-0.313104</td>\n",
              "      <td>-0.365365</td>\n",
              "      <td>0.216308</td>\n",
              "      <td>0.181065</td>\n",
              "      <td>10.00</td>\n",
              "      <td>0.0</td>\n",
              "    </tr>\n",
              "    <tr>\n",
              "      <th>83277</th>\n",
              "      <td>59768</td>\n",
              "      <td>1.471591</td>\n",
              "      <td>-1.234024</td>\n",
              "      <td>0.279178</td>\n",
              "      <td>-1.595504</td>\n",
              "      <td>-1.344324</td>\n",
              "      <td>-0.101130</td>\n",
              "      <td>-1.249330</td>\n",
              "      <td>0.030445</td>\n",
              "      <td>-1.813220</td>\n",
              "      <td>...</td>\n",
              "      <td>0.000785</td>\n",
              "      <td>0.310947</td>\n",
              "      <td>-0.194016</td>\n",
              "      <td>-0.504003</td>\n",
              "      <td>0.513079</td>\n",
              "      <td>0.008417</td>\n",
              "      <td>0.029493</td>\n",
              "      <td>0.007596</td>\n",
              "      <td>40.00</td>\n",
              "      <td>0.0</td>\n",
              "    </tr>\n",
              "    <tr>\n",
              "      <th>83278</th>\n",
              "      <td>59769</td>\n",
              "      <td>1.135220</td>\n",
              "      <td>0.124163</td>\n",
              "      <td>0.109082</td>\n",
              "      <td>0.902728</td>\n",
              "      <td>0.038998</td>\n",
              "      <td>0.004539</td>\n",
              "      <td>0.007332</td>\n",
              "      <td>0.113029</td>\n",
              "      <td>-0.000000</td>\n",
              "      <td>...</td>\n",
              "      <td>NaN</td>\n",
              "      <td>NaN</td>\n",
              "      <td>NaN</td>\n",
              "      <td>NaN</td>\n",
              "      <td>NaN</td>\n",
              "      <td>NaN</td>\n",
              "      <td>NaN</td>\n",
              "      <td>NaN</td>\n",
              "      <td>NaN</td>\n",
              "      <td>NaN</td>\n",
              "    </tr>\n",
              "  </tbody>\n",
              "</table>\n",
              "<p>5 rows × 31 columns</p>\n",
              "</div>\n",
              "      <button class=\"colab-df-convert\" onclick=\"convertToInteractive('df-43babfa1-7113-4754-a914-6bb42f0f9ad3')\"\n",
              "              title=\"Convert this dataframe to an interactive table.\"\n",
              "              style=\"display:none;\">\n",
              "        \n",
              "  <svg xmlns=\"http://www.w3.org/2000/svg\" height=\"24px\"viewBox=\"0 0 24 24\"\n",
              "       width=\"24px\">\n",
              "    <path d=\"M0 0h24v24H0V0z\" fill=\"none\"/>\n",
              "    <path d=\"M18.56 5.44l.94 2.06.94-2.06 2.06-.94-2.06-.94-.94-2.06-.94 2.06-2.06.94zm-11 1L8.5 8.5l.94-2.06 2.06-.94-2.06-.94L8.5 2.5l-.94 2.06-2.06.94zm10 10l.94 2.06.94-2.06 2.06-.94-2.06-.94-.94-2.06-.94 2.06-2.06.94z\"/><path d=\"M17.41 7.96l-1.37-1.37c-.4-.4-.92-.59-1.43-.59-.52 0-1.04.2-1.43.59L10.3 9.45l-7.72 7.72c-.78.78-.78 2.05 0 2.83L4 21.41c.39.39.9.59 1.41.59.51 0 1.02-.2 1.41-.59l7.78-7.78 2.81-2.81c.8-.78.8-2.07 0-2.86zM5.41 20L4 18.59l7.72-7.72 1.47 1.35L5.41 20z\"/>\n",
              "  </svg>\n",
              "      </button>\n",
              "      \n",
              "  <style>\n",
              "    .colab-df-container {\n",
              "      display:flex;\n",
              "      flex-wrap:wrap;\n",
              "      gap: 12px;\n",
              "    }\n",
              "\n",
              "    .colab-df-convert {\n",
              "      background-color: #E8F0FE;\n",
              "      border: none;\n",
              "      border-radius: 50%;\n",
              "      cursor: pointer;\n",
              "      display: none;\n",
              "      fill: #1967D2;\n",
              "      height: 32px;\n",
              "      padding: 0 0 0 0;\n",
              "      width: 32px;\n",
              "    }\n",
              "\n",
              "    .colab-df-convert:hover {\n",
              "      background-color: #E2EBFA;\n",
              "      box-shadow: 0px 1px 2px rgba(60, 64, 67, 0.3), 0px 1px 3px 1px rgba(60, 64, 67, 0.15);\n",
              "      fill: #174EA6;\n",
              "    }\n",
              "\n",
              "    [theme=dark] .colab-df-convert {\n",
              "      background-color: #3B4455;\n",
              "      fill: #D2E3FC;\n",
              "    }\n",
              "\n",
              "    [theme=dark] .colab-df-convert:hover {\n",
              "      background-color: #434B5C;\n",
              "      box-shadow: 0px 1px 3px 1px rgba(0, 0, 0, 0.15);\n",
              "      filter: drop-shadow(0px 1px 2px rgba(0, 0, 0, 0.3));\n",
              "      fill: #FFFFFF;\n",
              "    }\n",
              "  </style>\n",
              "\n",
              "      <script>\n",
              "        const buttonEl =\n",
              "          document.querySelector('#df-43babfa1-7113-4754-a914-6bb42f0f9ad3 button.colab-df-convert');\n",
              "        buttonEl.style.display =\n",
              "          google.colab.kernel.accessAllowed ? 'block' : 'none';\n",
              "\n",
              "        async function convertToInteractive(key) {\n",
              "          const element = document.querySelector('#df-43babfa1-7113-4754-a914-6bb42f0f9ad3');\n",
              "          const dataTable =\n",
              "            await google.colab.kernel.invokeFunction('convertToInteractive',\n",
              "                                                     [key], {});\n",
              "          if (!dataTable) return;\n",
              "\n",
              "          const docLinkHtml = 'Like what you see? Visit the ' +\n",
              "            '<a target=\"_blank\" href=https://colab.research.google.com/notebooks/data_table.ipynb>data table notebook</a>'\n",
              "            + ' to learn more about interactive tables.';\n",
              "          element.innerHTML = '';\n",
              "          dataTable['output_type'] = 'display_data';\n",
              "          await google.colab.output.renderOutput(dataTable, element);\n",
              "          const docLink = document.createElement('div');\n",
              "          docLink.innerHTML = docLinkHtml;\n",
              "          element.appendChild(docLink);\n",
              "        }\n",
              "      </script>\n",
              "    </div>\n",
              "  </div>\n",
              "  "
            ]
          },
          "metadata": {},
          "execution_count": 4
        }
      ]
    },
    {
      "cell_type": "code",
      "source": [
        "# dataset informations\n",
        "credit_card_data.info()"
      ],
      "metadata": {
        "colab": {
          "base_uri": "https://localhost:8080/"
        },
        "id": "MyMXcPrHx0Vr",
        "outputId": "15e58326-20c2-4eee-dae5-32d9e1fc43ab"
      },
      "execution_count": null,
      "outputs": [
        {
          "output_type": "stream",
          "name": "stdout",
          "text": [
            "<class 'pandas.core.frame.DataFrame'>\n",
            "RangeIndex: 83279 entries, 0 to 83278\n",
            "Data columns (total 31 columns):\n",
            " #   Column  Non-Null Count  Dtype  \n",
            "---  ------  --------------  -----  \n",
            " 0   Time    83279 non-null  int64  \n",
            " 1   V1      83279 non-null  float64\n",
            " 2   V2      83279 non-null  float64\n",
            " 3   V3      83279 non-null  float64\n",
            " 4   V4      83279 non-null  float64\n",
            " 5   V5      83279 non-null  float64\n",
            " 6   V6      83279 non-null  float64\n",
            " 7   V7      83279 non-null  float64\n",
            " 8   V8      83279 non-null  float64\n",
            " 9   V9      83279 non-null  float64\n",
            " 10  V10     83278 non-null  float64\n",
            " 11  V11     83278 non-null  float64\n",
            " 12  V12     83278 non-null  float64\n",
            " 13  V13     83278 non-null  float64\n",
            " 14  V14     83278 non-null  float64\n",
            " 15  V15     83278 non-null  float64\n",
            " 16  V16     83278 non-null  float64\n",
            " 17  V17     83278 non-null  float64\n",
            " 18  V18     83278 non-null  float64\n",
            " 19  V19     83278 non-null  float64\n",
            " 20  V20     83278 non-null  float64\n",
            " 21  V21     83278 non-null  float64\n",
            " 22  V22     83278 non-null  float64\n",
            " 23  V23     83278 non-null  float64\n",
            " 24  V24     83278 non-null  float64\n",
            " 25  V25     83278 non-null  float64\n",
            " 26  V26     83278 non-null  float64\n",
            " 27  V27     83278 non-null  float64\n",
            " 28  V28     83278 non-null  float64\n",
            " 29  Amount  83278 non-null  float64\n",
            " 30  Class   83278 non-null  float64\n",
            "dtypes: float64(30), int64(1)\n",
            "memory usage: 19.7 MB\n"
          ]
        }
      ]
    },
    {
      "cell_type": "code",
      "source": [
        "# checking the number of missing values in each column\n",
        "credit_card_data.isnull().sum()"
      ],
      "metadata": {
        "colab": {
          "base_uri": "https://localhost:8080/"
        },
        "id": "gll4xadwx48r",
        "outputId": "febc5e15-89d1-4b90-bc97-23aa4f4a35fb"
      },
      "execution_count": null,
      "outputs": [
        {
          "output_type": "execute_result",
          "data": {
            "text/plain": [
              "Time      0\n",
              "V1        0\n",
              "V2        0\n",
              "V3        0\n",
              "V4        0\n",
              "V5        0\n",
              "V6        0\n",
              "V7        0\n",
              "V8        0\n",
              "V9        0\n",
              "V10       1\n",
              "V11       1\n",
              "V12       1\n",
              "V13       1\n",
              "V14       1\n",
              "V15       1\n",
              "V16       1\n",
              "V17       1\n",
              "V18       1\n",
              "V19       1\n",
              "V20       1\n",
              "V21       1\n",
              "V22       1\n",
              "V23       1\n",
              "V24       1\n",
              "V25       1\n",
              "V26       1\n",
              "V27       1\n",
              "V28       1\n",
              "Amount    1\n",
              "Class     1\n",
              "dtype: int64"
            ]
          },
          "metadata": {},
          "execution_count": 6
        }
      ]
    },
    {
      "cell_type": "code",
      "source": [
        "# distribution of legit transactions & fraudulent transactions\n",
        "credit_card_data['Class'].value_counts()"
      ],
      "metadata": {
        "colab": {
          "base_uri": "https://localhost:8080/"
        },
        "id": "vSaEm7yJx-Gj",
        "outputId": "4476afbe-d2c0-4d3a-d748-896435b51492"
      },
      "execution_count": null,
      "outputs": [
        {
          "output_type": "execute_result",
          "data": {
            "text/plain": [
              "0.0    83077\n",
              "1.0      201\n",
              "Name: Class, dtype: int64"
            ]
          },
          "metadata": {},
          "execution_count": 7
        }
      ]
    },
    {
      "cell_type": "markdown",
      "source": [
        "This Dataset is highly unblanced"
      ],
      "metadata": {
        "id": "BJ-C-lxz7b14"
      }
    },
    {
      "cell_type": "markdown",
      "source": [
        "0 --> Normal Transaction\n",
        "\n",
        "1 --> fraudulent transaction"
      ],
      "metadata": {
        "id": "N_-h3fGV7dhu"
      }
    },
    {
      "cell_type": "code",
      "source": [
        "# separating the data for analysis\n",
        "legit = credit_card_data[credit_card_data.Class == 0]\n",
        "fraud = credit_card_data[credit_card_data.Class == 1]"
      ],
      "metadata": {
        "id": "fcEGMDfPyCQ1"
      },
      "execution_count": null,
      "outputs": []
    },
    {
      "cell_type": "code",
      "source": [
        "print(legit.shape)\n",
        "print(fraud.shape)"
      ],
      "metadata": {
        "colab": {
          "base_uri": "https://localhost:8080/"
        },
        "id": "Zoakcr7_yHrF",
        "outputId": "246c70f0-d369-4d4e-eef7-e6306185c76b"
      },
      "execution_count": null,
      "outputs": [
        {
          "output_type": "stream",
          "name": "stdout",
          "text": [
            "(83077, 31)\n",
            "(201, 31)\n"
          ]
        }
      ]
    },
    {
      "cell_type": "code",
      "source": [
        "# Plotting time of transaction to check for correlations\n",
        "\n",
        "f, (ax1, ax2) = plt.subplots(2, 1, sharex=True)\n",
        "f.suptitle('Time of transaction vs Amount by class')\n",
        "\n",
        "ax1.scatter(fraud.Time, fraud.Amount)\n",
        "ax1.set_title('Fraud')\n",
        "\n",
        "ax2.scatter(legit.Time, legit.Amount)\n",
        "ax2.set_title('Normal')\n",
        "\n",
        "plt.xlabel('Time (in Seconds)')\n",
        "plt.ylabel('Amount')\n",
        "plt.show()"
      ],
      "metadata": {
        "colab": {
          "base_uri": "https://localhost:8080/",
          "height": 308
        },
        "id": "rLnCoKIXNbRV",
        "outputId": "ff4e3556-5f7b-46ed-fcdc-267b43968642"
      },
      "execution_count": null,
      "outputs": [
        {
          "output_type": "display_data",
          "data": {
            "text/plain": [
              "<Figure size 432x288 with 2 Axes>"
            ],
            "image/png": "[encoded data removed]"
          },
          "metadata": {
            "needs_background": "light"
          }
        }
      ]
    },
    {
      "cell_type": "code",
      "source": [
        "# statistical measures of the data\n",
        "legit.Amount.describe()"
      ],
      "metadata": {
        "colab": {
          "base_uri": "https://localhost:8080/"
        },
        "id": "DRc9hrTUyMo-",
        "outputId": "459983f0-e7bd-4ec7-a795-20e83c448fdd"
      },
      "execution_count": null,
      "outputs": [
        {
          "output_type": "execute_result",
          "data": {
            "text/plain": [
              "count    83077.000000\n",
              "mean        98.225733\n",
              "std        269.373860\n",
              "min          0.000000\n",
              "25%          7.700000\n",
              "50%         26.990000\n",
              "75%         89.690000\n",
              "max      19656.530000\n",
              "Name: Amount, dtype: float64"
            ]
          },
          "metadata": {},
          "execution_count": 11
        }
      ]
    },
    {
      "cell_type": "code",
      "source": [
        "fraud.Amount.describe()"
      ],
      "metadata": {
        "colab": {
          "base_uri": "https://localhost:8080/"
        },
        "id": "l_UwHqovyRID",
        "outputId": "dc5d0278-2937-4b52-9fd3-c4bb581498bb"
      },
      "execution_count": null,
      "outputs": [
        {
          "output_type": "execute_result",
          "data": {
            "text/plain": [
              "count     201.000000\n",
              "mean       99.628756\n",
              "std       228.739325\n",
              "min         0.000000\n",
              "25%         1.000000\n",
              "50%         7.520000\n",
              "75%        99.990000\n",
              "max      1809.680000\n",
              "Name: Amount, dtype: float64"
            ]
          },
          "metadata": {},
          "execution_count": 12
        }
      ]
    },
    {
      "cell_type": "code",
      "source": [
        "f, (ax1, ax2) = plt.subplots(2, 1, sharex=True)\n",
        "f.suptitle('Amount per transaction by class')\n",
        "\n",
        "bins = 50\n",
        "\n",
        "ax1.hist(fraud.Amount, bins = bins)\n",
        "ax1.set_title('Fraud')\n",
        "\n",
        "ax2.hist(legit.Amount, bins = bins)\n",
        "ax2.set_title('Normal')\n",
        "\n",
        "plt.xlabel('Amount ($)')\n",
        "plt.ylabel('Number of Transactions')\n",
        "plt.xlim((0, 20000))\n",
        "plt.yscale('log')\n",
        "plt.show()"
      ],
      "metadata": {
        "colab": {
          "base_uri": "https://localhost:8080/",
          "height": 308
        },
        "id": "bzYCXsts4vRR",
        "outputId": "0b1a61d9-1167-46c3-af17-25f00dc119ff"
      },
      "execution_count": null,
      "outputs": [
        {
          "output_type": "display_data",
          "data": {
            "text/plain": [
              "<Figure size 432x288 with 2 Axes>"
            ],
            "image/png": "[encoded data removed]"
          },
          "metadata": {
            "needs_background": "light"
          }
        }
      ]
    },
    {
      "cell_type": "code",
      "source": [
        "# compare the values for both transactions\n",
        "credit_card_data.groupby('Class').mean()"
      ],
      "metadata": {
        "colab": {
          "base_uri": "https://localhost:8080/",
          "height": 237
        },
        "id": "d7ORMoQFyW3t",
        "outputId": "a5473920-f0bb-4f54-94fc-d68c975cd608"
      },
      "execution_count": null,
      "outputs": [
        {
          "output_type": "execute_result",
          "data": {
            "text/plain": [
              "               Time        V1        V2        V3        V4        V5  \\\n",
              "Class                                                                   \n",
              "0.0    38197.037038 -0.246222 -0.050140  0.701375  0.151217 -0.266942   \n",
              "1.0    33751.094527 -6.422458  4.501157 -8.551463  5.131404 -4.655227   \n",
              "\n",
              "             V6        V7        V8        V9  ...       V20       V21  \\\n",
              "Class                                          ...                       \n",
              "0.0    0.099627 -0.096799  0.046602 -0.009665  ...  0.041320 -0.031195   \n",
              "1.0   -1.986353 -6.786837  2.973793 -3.072795  ...  0.406912  0.758621   \n",
              "\n",
              "            V22       V23       V24       V25       V26       V27       V28  \\\n",
              "Class                                                                         \n",
              "0.0   -0.105015 -0.037331  0.008906  0.133892  0.025943  0.000316  0.001995   \n",
              "1.0   -0.159979 -0.228778 -0.089971  0.232553  0.091620  0.568499  0.052008   \n",
              "\n",
              "          Amount  \n",
              "Class             \n",
              "0.0    98.225733  \n",
              "1.0    99.628756  \n",
              "\n",
              "[2 rows x 30 columns]"
            ],
            "text/html": [
              "\n",
              "  <div id=\"df-e6c94dec-8da0-4f04-bd8c-581ce0f22be9\">\n",
              "    <div class=\"colab-df-container\">\n",
              "      <div>\n",
              "<style scoped>\n",
              "    .dataframe tbody tr th:only-of-type {\n",
              "        vertical-align: middle;\n",
              "    }\n",
              "\n",
              "    .dataframe tbody tr th {\n",
              "        vertical-align: top;\n",
              "    }\n",
              "\n",
              "    .dataframe thead th {\n",
              "        text-align: right;\n",
              "    }\n",
              "</style>\n",
              "<table border=\"1\" class=\"dataframe\">\n",
              "  <thead>\n",
              "    <tr style=\"text-align: right;\">\n",
              "      <th></th>\n",
              "      <th>Time</th>\n",
              "      <th>V1</th>\n",
              "      <th>V2</th>\n",
              "      <th>V3</th>\n",
              "      <th>V4</th>\n",
              "      <th>V5</th>\n",
              "      <th>V6</th>\n",
              "      <th>V7</th>\n",
              "      <th>V8</th>\n",
              "      <th>V9</th>\n",
              "      <th>...</th>\n",
              "      <th>V20</th>\n",
              "      <th>V21</th>\n",
              "      <th>V22</th>\n",
              "      <th>V23</th>\n",
              "      <th>V24</th>\n",
              "      <th>V25</th>\n",
              "      <th>V26</th>\n",
              "      <th>V27</th>\n",
              "      <th>V28</th>\n",
              "      <th>Amount</th>\n",
              "    </tr>\n",
              "    <tr>\n",
              "      <th>Class</th>\n",
              "      <th></th>\n",
              "      <th></th>\n",
              "      <th></th>\n",
              "      <th></th>\n",
              "      <th></th>\n",
              "      <th></th>\n",
              "      <th></th>\n",
              "      <th></th>\n",
              "      <th></th>\n",
              "      <th></th>\n",
              "      <th></th>\n",
              "      <th></th>\n",
              "      <th></th>\n",
              "      <th></th>\n",
              "      <th></th>\n",
              "      <th></th>\n",
              "      <th></th>\n",
              "      <th></th>\n",
              "      <th></th>\n",
              "      <th></th>\n",
              "      <th></th>\n",
              "    </tr>\n",
              "  </thead>\n",
              "  <tbody>\n",
              "    <tr>\n",
              "      <th>0.0</th>\n",
              "      <td>38197.037038</td>\n",
              "      <td>-0.246222</td>\n",
              "      <td>-0.050140</td>\n",
              "      <td>0.701375</td>\n",
              "      <td>0.151217</td>\n",
              "      <td>-0.266942</td>\n",
              "      <td>0.099627</td>\n",
              "      <td>-0.096799</td>\n",
              "      <td>0.046602</td>\n",
              "      <td>-0.009665</td>\n",
              "      <td>...</td>\n",
              "      <td>0.041320</td>\n",
              "      <td>-0.031195</td>\n",
              "      <td>-0.105015</td>\n",
              "      <td>-0.037331</td>\n",
              "      <td>0.008906</td>\n",
              "      <td>0.133892</td>\n",
              "      <td>0.025943</td>\n",
              "      <td>0.000316</td>\n",
              "      <td>0.001995</td>\n",
              "      <td>98.225733</td>\n",
              "    </tr>\n",
              "    <tr>\n",
              "      <th>1.0</th>\n",
              "      <td>33751.094527</td>\n",
              "      <td>-6.422458</td>\n",
              "      <td>4.501157</td>\n",
              "      <td>-8.551463</td>\n",
              "      <td>5.131404</td>\n",
              "      <td>-4.655227</td>\n",
              "      <td>-1.986353</td>\n",
              "      <td>-6.786837</td>\n",
              "      <td>2.973793</td>\n",
              "      <td>-3.072795</td>\n",
              "      <td>...</td>\n",
              "      <td>0.406912</td>\n",
              "      <td>0.758621</td>\n",
              "      <td>-0.159979</td>\n",
              "      <td>-0.228778</td>\n",
              "      <td>-0.089971</td>\n",
              "      <td>0.232553</td>\n",
              "      <td>0.091620</td>\n",
              "      <td>0.568499</td>\n",
              "      <td>0.052008</td>\n",
              "      <td>99.628756</td>\n",
              "    </tr>\n",
              "  </tbody>\n",
              "</table>\n",
              "<p>2 rows × 30 columns</p>\n",
              "</div>\n",
              "      <button class=\"colab-df-convert\" onclick=\"convertToInteractive('df-e6c94dec-8da0-4f04-bd8c-581ce0f22be9')\"\n",
              "              title=\"Convert this dataframe to an interactive table.\"\n",
              "              style=\"display:none;\">\n",
              "        \n",
              "  <svg xmlns=\"http://www.w3.org/2000/svg\" height=\"24px\"viewBox=\"0 0 24 24\"\n",
              "       width=\"24px\">\n",
              "    <path d=\"M0 0h24v24H0V0z\" fill=\"none\"/>\n",
              "    <path d=\"M18.56 5.44l.94 2.06.94-2.06 2.06-.94-2.06-.94-.94-2.06-.94 2.06-2.06.94zm-11 1L8.5 8.5l.94-2.06 2.06-.94-2.06-.94L8.5 2.5l-.94 2.06-2.06.94zm10 10l.94 2.06.94-2.06 2.06-.94-2.06-.94-.94-2.06-.94 2.06-2.06.94z\"/><path d=\"M17.41 7.96l-1.37-1.37c-.4-.4-.92-.59-1.43-.59-.52 0-1.04.2-1.43.59L10.3 9.45l-7.72 7.72c-.78.78-.78 2.05 0 2.83L4 21.41c.39.39.9.59 1.41.59.51 0 1.02-.2 1.41-.59l7.78-7.78 2.81-2.81c.8-.78.8-2.07 0-2.86zM5.41 20L4 18.59l7.72-7.72 1.47 1.35L5.41 20z\"/>\n",
              "  </svg>\n",
              "      </button>\n",
              "      \n",
              "  <style>\n",
              "    .colab-df-container {\n",
              "      display:flex;\n",
              "      flex-wrap:wrap;\n",
              "      gap: 12px;\n",
              "    }\n",
              "\n",
              "    .colab-df-convert {\n",
              "      background-color: #E8F0FE;\n",
              "      border: none;\n",
              "      border-radius: 50%;\n",
              "      cursor: pointer;\n",
              "      display: none;\n",
              "      fill: #1967D2;\n",
              "      height: 32px;\n",
              "      padding: 0 0 0 0;\n",
              "      width: 32px;\n",
              "    }\n",
              "\n",
              "    .colab-df-convert:hover {\n",
              "      background-color: #E2EBFA;\n",
              "      box-shadow: 0px 1px 2px rgba(60, 64, 67, 0.3), 0px 1px 3px 1px rgba(60, 64, 67, 0.15);\n",
              "      fill: #174EA6;\n",
              "    }\n",
              "\n",
              "    [theme=dark] .colab-df-convert {\n",
              "      background-color: #3B4455;\n",
              "      fill: #D2E3FC;\n",
              "    }\n",
              "\n",
              "    [theme=dark] .colab-df-convert:hover {\n",
              "      background-color: #434B5C;\n",
              "      box-shadow: 0px 1px 3px 1px rgba(0, 0, 0, 0.15);\n",
              "      filter: drop-shadow(0px 1px 2px rgba(0, 0, 0, 0.3));\n",
              "      fill: #FFFFFF;\n",
              "    }\n",
              "  </style>\n",
              "\n",
              "      <script>\n",
              "        const buttonEl =\n",
              "          document.querySelector('#df-e6c94dec-8da0-4f04-bd8c-581ce0f22be9 button.colab-df-convert');\n",
              "        buttonEl.style.display =\n",
              "          google.colab.kernel.accessAllowed ? 'block' : 'none';\n",
              "\n",
              "        async function convertToInteractive(key) {\n",
              "          const element = document.querySelector('#df-e6c94dec-8da0-4f04-bd8c-581ce0f22be9');\n",
              "          const dataTable =\n",
              "            await google.colab.kernel.invokeFunction('convertToInteractive',\n",
              "                                                     [key], {});\n",
              "          if (!dataTable) return;\n",
              "\n",
              "          const docLinkHtml = 'Like what you see? Visit the ' +\n",
              "            '<a target=\"_blank\" href=https://colab.research.google.com/notebooks/data_table.ipynb>data table notebook</a>'\n",
              "            + ' to learn more about interactive tables.';\n",
              "          element.innerHTML = '';\n",
              "          dataTable['output_type'] = 'display_data';\n",
              "          await google.colab.output.renderOutput(dataTable, element);\n",
              "          const docLink = document.createElement('div');\n",
              "          docLink.innerHTML = docLinkHtml;\n",
              "          element.appendChild(docLink);\n",
              "        }\n",
              "      </script>\n",
              "    </div>\n",
              "  </div>\n",
              "  "
            ]
          },
          "metadata": {},
          "execution_count": 14
        }
      ]
    },
    {
      "cell_type": "code",
      "source": [
        "count_classes = pd.value_counts(credit_card_data['Class'], sort = True)\n",
        "count_classes.plot(kind = 'bar', rot=0)\n",
        "plt.title(\"Transaction class distribution\")\n",
        "plt.xlabel(\"Class\")\n",
        "plt.ylabel(\"Frequency\")"
      ],
      "metadata": {
        "colab": {
          "base_uri": "https://localhost:8080/",
          "height": 312
        },
        "id": "U66YjY7l3CgZ",
        "outputId": "cae08573-493c-48ea-c284-96c17942e5f4"
      },
      "execution_count": null,
      "outputs": [
        {
          "output_type": "execute_result",
          "data": {
            "text/plain": [
              "Text(0, 0.5, 'Frequency')"
            ]
          },
          "metadata": {},
          "execution_count": 15
        },
        {
          "output_type": "display_data",
          "data": {
            "text/plain": [
              "<Figure size 432x288 with 1 Axes>"
            ],
            "image/png": "[encoded data removed]"
          },
          "metadata": {
            "needs_background": "light"
          }
        }
      ]
    },
    {
      "cell_type": "markdown",
      "source": [
        "Under-Sampling"
      ],
      "metadata": {
        "id": "kf8Et9jT7q63"
      }
    },
    {
      "cell_type": "markdown",
      "source": [
        "Build a sample dataset containing similar distribution of normal transactions and Fraudulent Transactions"
      ],
      "metadata": {
        "id": "bQ61fc0n7tQm"
      }
    },
    {
      "cell_type": "markdown",
      "source": [
        "Number of Fraudulent Transactions --> 492"
      ],
      "metadata": {
        "id": "h0ykyVdw7xuf"
      }
    },
    {
      "cell_type": "code",
      "source": [
        "legit_sample = legit.sample(n=492)"
      ],
      "metadata": {
        "id": "trpc8t-4yb-8"
      },
      "execution_count": null,
      "outputs": []
    },
    {
      "cell_type": "markdown",
      "source": [
        "Concatenating two DataFrames"
      ],
      "metadata": {
        "id": "eT9Q0a9271P4"
      }
    },
    {
      "cell_type": "code",
      "source": [
        "new_dataset = pd.concat([legit_sample, fraud], axis=0)"
      ],
      "metadata": {
        "id": "yjizj-FqyiF0"
      },
      "execution_count": null,
      "outputs": []
    },
    {
      "cell_type": "code",
      "source": [
        "new_dataset.head()"
      ],
      "metadata": {
        "colab": {
          "base_uri": "https://localhost:8080/",
          "height": 300
        },
        "id": "V9azWmPyyl87",
        "outputId": "ff20dd45-8126-4dc1-d6c1-ed4ff500d75b"
      },
      "execution_count": null,
      "outputs": [
        {
          "output_type": "execute_result",
          "data": {
            "text/plain": [
              "        Time        V1        V2        V3        V4        V5        V6  \\\n",
              "50118  44356  1.058652  0.287390  0.554697  2.640415 -0.504271 -0.828845   \n",
              "68851  53166  1.222401  0.582456 -0.344752  0.762416  0.046813 -1.194871   \n",
              "2605    2132  0.886310 -0.860400  0.867378  0.179924 -1.070001  0.194305   \n",
              "61957  50064  1.063953 -0.878226  1.741909  0.567577 -1.669535  0.858634   \n",
              "55465  46952  0.975729 -0.220530  0.191831  0.602450 -0.334165 -0.489342   \n",
              "\n",
              "             V7        V8        V9  ...       V21       V22       V23  \\\n",
              "50118  0.175563 -0.077214 -0.506164  ...  0.042434 -0.145623 -0.044187   \n",
              "68851  0.323131 -0.204881 -0.489564  ... -0.068653 -0.160993 -0.070876   \n",
              "2605  -0.496628  0.133733  0.827942  ... -0.098469 -0.376944 -0.122137   \n",
              "61957 -1.494906  0.680319  1.977578  ... -0.060720  0.223444  0.043236   \n",
              "55465  0.213647 -0.175433 -0.056937  ...  0.155500  0.273199 -0.168238   \n",
              "\n",
              "            V24       V25       V26       V27       V28  Amount  Class  \n",
              "50118  0.660319  0.429259  0.016725 -0.042459  0.028615   64.63    0.0  \n",
              "68851  0.459055  0.526713  0.337354 -0.035077  0.029342    0.76    0.0  \n",
              "2605   0.107513  0.118704  0.926029 -0.062515  0.030073  166.74    0.0  \n",
              "61957  0.277179  0.058232  1.135030  0.005154 -0.000231    1.00    0.0  \n",
              "55465  0.168323  0.407964  0.547013 -0.046098  0.030781  134.94    0.0  \n",
              "\n",
              "[5 rows x 31 columns]"
            ],
            "text/html": [
              "\n",
              "  <div id=\"df-cf00451a-dc11-42bf-9c6c-710f91955d11\">\n",
              "    <div class=\"colab-df-container\">\n",
              "      <div>\n",
              "<style scoped>\n",
              "    .dataframe tbody tr th:only-of-type {\n",
              "        vertical-align: middle;\n",
              "    }\n",
              "\n",
              "    .dataframe tbody tr th {\n",
              "        vertical-align: top;\n",
              "    }\n",
              "\n",
              "    .dataframe thead th {\n",
              "        text-align: right;\n",
              "    }\n",
              "</style>\n",
              "<table border=\"1\" class=\"dataframe\">\n",
              "  <thead>\n",
              "    <tr style=\"text-align: right;\">\n",
              "      <th></th>\n",
              "      <th>Time</th>\n",
              "      <th>V1</th>\n",
              "      <th>V2</th>\n",
              "      <th>V3</th>\n",
              "      <th>V4</th>\n",
              "      <th>V5</th>\n",
              "      <th>V6</th>\n",
              "      <th>V7</th>\n",
              "      <th>V8</th>\n",
              "      <th>V9</th>\n",
              "      <th>...</th>\n",
              "      <th>V21</th>\n",
              "      <th>V22</th>\n",
              "      <th>V23</th>\n",
              "      <th>V24</th>\n",
              "      <th>V25</th>\n",
              "      <th>V26</th>\n",
              "      <th>V27</th>\n",
              "      <th>V28</th>\n",
              "      <th>Amount</th>\n",
              "      <th>Class</th>\n",
              "    </tr>\n",
              "  </thead>\n",
              "  <tbody>\n",
              "    <tr>\n",
              "      <th>50118</th>\n",
              "      <td>44356</td>\n",
              "      <td>1.058652</td>\n",
              "      <td>0.287390</td>\n",
              "      <td>0.554697</td>\n",
              "      <td>2.640415</td>\n",
              "      <td>-0.504271</td>\n",
              "      <td>-0.828845</td>\n",
              "      <td>0.175563</td>\n",
              "      <td>-0.077214</td>\n",
              "      <td>-0.506164</td>\n",
              "      <td>...</td>\n",
              "      <td>0.042434</td>\n",
              "      <td>-0.145623</td>\n",
              "      <td>-0.044187</td>\n",
              "      <td>0.660319</td>\n",
              "      <td>0.429259</td>\n",
              "      <td>0.016725</td>\n",
              "      <td>-0.042459</td>\n",
              "      <td>0.028615</td>\n",
              "      <td>64.63</td>\n",
              "      <td>0.0</td>\n",
              "    </tr>\n",
              "    <tr>\n",
              "      <th>68851</th>\n",
              "      <td>53166</td>\n",
              "      <td>1.222401</td>\n",
              "      <td>0.582456</td>\n",
              "      <td>-0.344752</td>\n",
              "      <td>0.762416</td>\n",
              "      <td>0.046813</td>\n",
              "      <td>-1.194871</td>\n",
              "      <td>0.323131</td>\n",
              "      <td>-0.204881</td>\n",
              "      <td>-0.489564</td>\n",
              "      <td>...</td>\n",
              "      <td>-0.068653</td>\n",
              "      <td>-0.160993</td>\n",
              "      <td>-0.070876</td>\n",
              "      <td>0.459055</td>\n",
              "      <td>0.526713</td>\n",
              "      <td>0.337354</td>\n",
              "      <td>-0.035077</td>\n",
              "      <td>0.029342</td>\n",
              "      <td>0.76</td>\n",
              "      <td>0.0</td>\n",
              "    </tr>\n",
              "    <tr>\n",
              "      <th>2605</th>\n",
              "      <td>2132</td>\n",
              "      <td>0.886310</td>\n",
              "      <td>-0.860400</td>\n",
              "      <td>0.867378</td>\n",
              "      <td>0.179924</td>\n",
              "      <td>-1.070001</td>\n",
              "      <td>0.194305</td>\n",
              "      <td>-0.496628</td>\n",
              "      <td>0.133733</td>\n",
              "      <td>0.827942</td>\n",
              "      <td>...</td>\n",
              "      <td>-0.098469</td>\n",
              "      <td>-0.376944</td>\n",
              "      <td>-0.122137</td>\n",
              "      <td>0.107513</td>\n",
              "      <td>0.118704</td>\n",
              "      <td>0.926029</td>\n",
              "      <td>-0.062515</td>\n",
              "      <td>0.030073</td>\n",
              "      <td>166.74</td>\n",
              "      <td>0.0</td>\n",
              "    </tr>\n",
              "    <tr>\n",
              "      <th>61957</th>\n",
              "      <td>50064</td>\n",
              "      <td>1.063953</td>\n",
              "      <td>-0.878226</td>\n",
              "      <td>1.741909</td>\n",
              "      <td>0.567577</td>\n",
              "      <td>-1.669535</td>\n",
              "      <td>0.858634</td>\n",
              "      <td>-1.494906</td>\n",
              "      <td>0.680319</td>\n",
              "      <td>1.977578</td>\n",
              "      <td>...</td>\n",
              "      <td>-0.060720</td>\n",
              "      <td>0.223444</td>\n",
              "      <td>0.043236</td>\n",
              "      <td>0.277179</td>\n",
              "      <td>0.058232</td>\n",
              "      <td>1.135030</td>\n",
              "      <td>0.005154</td>\n",
              "      <td>-0.000231</td>\n",
              "      <td>1.00</td>\n",
              "      <td>0.0</td>\n",
              "    </tr>\n",
              "    <tr>\n",
              "      <th>55465</th>\n",
              "      <td>46952</td>\n",
              "      <td>0.975729</td>\n",
              "      <td>-0.220530</td>\n",
              "      <td>0.191831</td>\n",
              "      <td>0.602450</td>\n",
              "      <td>-0.334165</td>\n",
              "      <td>-0.489342</td>\n",
              "      <td>0.213647</td>\n",
              "      <td>-0.175433</td>\n",
              "      <td>-0.056937</td>\n",
              "      <td>...</td>\n",
              "      <td>0.155500</td>\n",
              "      <td>0.273199</td>\n",
              "      <td>-0.168238</td>\n",
              "      <td>0.168323</td>\n",
              "      <td>0.407964</td>\n",
              "      <td>0.547013</td>\n",
              "      <td>-0.046098</td>\n",
              "      <td>0.030781</td>\n",
              "      <td>134.94</td>\n",
              "      <td>0.0</td>\n",
              "    </tr>\n",
              "  </tbody>\n",
              "</table>\n",
              "<p>5 rows × 31 columns</p>\n",
              "</div>\n",
              "      <button class=\"colab-df-convert\" onclick=\"convertToInteractive('df-cf00451a-dc11-42bf-9c6c-710f91955d11')\"\n",
              "              title=\"Convert this dataframe to an interactive table.\"\n",
              "              style=\"display:none;\">\n",
              "        \n",
              "  <svg xmlns=\"http://www.w3.org/2000/svg\" height=\"24px\"viewBox=\"0 0 24 24\"\n",
              "       width=\"24px\">\n",
              "    <path d=\"M0 0h24v24H0V0z\" fill=\"none\"/>\n",
              "    <path d=\"M18.56 5.44l.94 2.06.94-2.06 2.06-.94-2.06-.94-.94-2.06-.94 2.06-2.06.94zm-11 1L8.5 8.5l.94-2.06 2.06-.94-2.06-.94L8.5 2.5l-.94 2.06-2.06.94zm10 10l.94 2.06.94-2.06 2.06-.94-2.06-.94-.94-2.06-.94 2.06-2.06.94z\"/><path d=\"M17.41 7.96l-1.37-1.37c-.4-.4-.92-.59-1.43-.59-.52 0-1.04.2-1.43.59L10.3 9.45l-7.72 7.72c-.78.78-.78 2.05 0 2.83L4 21.41c.39.39.9.59 1.41.59.51 0 1.02-.2 1.41-.59l7.78-7.78 2.81-2.81c.8-.78.8-2.07 0-2.86zM5.41 20L4 18.59l7.72-7.72 1.47 1.35L5.41 20z\"/>\n",
              "  </svg>\n",
              "      </button>\n",
              "      \n",
              "  <style>\n",
              "    .colab-df-container {\n",
              "      display:flex;\n",
              "      flex-wrap:wrap;\n",
              "      gap: 12px;\n",
              "    }\n",
              "\n",
              "    .colab-df-convert {\n",
              "      background-color: #E8F0FE;\n",
              "      border: none;\n",
              "      border-radius: 50%;\n",
              "      cursor: pointer;\n",
              "      display: none;\n",
              "      fill: #1967D2;\n",
              "      height: 32px;\n",
              "      padding: 0 0 0 0;\n",
              "      width: 32px;\n",
              "    }\n",
              "\n",
              "    .colab-df-convert:hover {\n",
              "      background-color: #E2EBFA;\n",
              "      box-shadow: 0px 1px 2px rgba(60, 64, 67, 0.3), 0px 1px 3px 1px rgba(60, 64, 67, 0.15);\n",
              "      fill: #174EA6;\n",
              "    }\n",
              "\n",
              "    [theme=dark] .colab-df-convert {\n",
              "      background-color: #3B4455;\n",
              "      fill: #D2E3FC;\n",
              "    }\n",
              "\n",
              "    [theme=dark] .colab-df-convert:hover {\n",
              "      background-color: #434B5C;\n",
              "      box-shadow: 0px 1px 3px 1px rgba(0, 0, 0, 0.15);\n",
              "      filter: drop-shadow(0px 1px 2px rgba(0, 0, 0, 0.3));\n",
              "      fill: #FFFFFF;\n",
              "    }\n",
              "  </style>\n",
              "\n",
              "      <script>\n",
              "        const buttonEl =\n",
              "          document.querySelector('#df-cf00451a-dc11-42bf-9c6c-710f91955d11 button.colab-df-convert');\n",
              "        buttonEl.style.display =\n",
              "          google.colab.kernel.accessAllowed ? 'block' : 'none';\n",
              "\n",
              "        async function convertToInteractive(key) {\n",
              "          const element = document.querySelector('#df-cf00451a-dc11-42bf-9c6c-710f91955d11');\n",
              "          const dataTable =\n",
              "            await google.colab.kernel.invokeFunction('convertToInteractive',\n",
              "                                                     [key], {});\n",
              "          if (!dataTable) return;\n",
              "\n",
              "          const docLinkHtml = 'Like what you see? Visit the ' +\n",
              "            '<a target=\"_blank\" href=https://colab.research.google.com/notebooks/data_table.ipynb>data table notebook</a>'\n",
              "            + ' to learn more about interactive tables.';\n",
              "          element.innerHTML = '';\n",
              "          dataTable['output_type'] = 'display_data';\n",
              "          await google.colab.output.renderOutput(dataTable, element);\n",
              "          const docLink = document.createElement('div');\n",
              "          docLink.innerHTML = docLinkHtml;\n",
              "          element.appendChild(docLink);\n",
              "        }\n",
              "      </script>\n",
              "    </div>\n",
              "  </div>\n",
              "  "
            ]
          },
          "metadata": {},
          "execution_count": 18
        }
      ]
    },
    {
      "cell_type": "code",
      "source": [
        "new_dataset.tail()"
      ],
      "metadata": {
        "colab": {
          "base_uri": "https://localhost:8080/",
          "height": 300
        },
        "id": "fD0AziS7yvWy",
        "outputId": "5bf318be-44fd-445d-eb86-0c64a7618caf"
      },
      "execution_count": null,
      "outputs": [
        {
          "output_type": "execute_result",
          "data": {
            "text/plain": [
              "        Time        V1        V2        V3        V4        V5        V6  \\\n",
              "80760  58642 -0.451383  2.225147 -4.953050  4.342228 -3.656190 -0.020121   \n",
              "81186  58822 -4.384221  3.264665 -3.077158  3.403594 -1.938075 -1.221081   \n",
              "81609  59011 -2.326922 -3.348439 -3.513408  3.175060 -2.815137 -0.203363   \n",
              "82400  59385 -7.626924 -6.976420 -2.077911  3.416754  4.458758 -5.080408   \n",
              "83053  59669  0.326007  1.286638 -2.007181  2.419675 -1.532902 -1.432803   \n",
              "\n",
              "             V7        V8        V9  ...       V21       V22       V23  \\\n",
              "80760 -5.407554 -0.748436 -1.362198  ... -0.575924  0.495889  1.154128   \n",
              "81186 -3.310317 -1.111975 -1.977593  ...  2.076383 -0.990303 -0.330358   \n",
              "81609 -0.892144  0.333226 -0.802005  ...  1.226648 -0.695902 -1.478490   \n",
              "82400 -6.578948  1.760341 -0.599509  ...  1.224795 -0.656639 -0.330811   \n",
              "83053 -2.459530  0.617738 -1.125861  ...  0.556895  0.169776 -0.174357   \n",
              "\n",
              "            V24       V25       V26       V27       V28   Amount  Class  \n",
              "80760 -0.016186 -2.079928 -0.554377  0.455179  0.001321   113.92    1.0  \n",
              "81186  0.158378  0.006351 -0.493860 -1.537652 -0.994022    45.64    1.0  \n",
              "81609 -0.061553  0.236155  0.531911  0.302324  0.536375  1389.56    1.0  \n",
              "82400 -0.078946  0.270306  0.431119  0.821381 -1.056088    18.98    1.0  \n",
              "83053  0.308061  0.710996 -0.231030  0.580495  0.300984     6.27    1.0  \n",
              "\n",
              "[5 rows x 31 columns]"
            ],
            "text/html": [
              "\n",
              "  <div id=\"df-fcdd4042-ae29-43ef-a24c-fc39a17d0f0f\">\n",
              "    <div class=\"colab-df-container\">\n",
              "      <div>\n",
              "<style scoped>\n",
              "    .dataframe tbody tr th:only-of-type {\n",
              "        vertical-align: middle;\n",
              "    }\n",
              "\n",
              "    .dataframe tbody tr th {\n",
              "        vertical-align: top;\n",
              "    }\n",
              "\n",
              "    .dataframe thead th {\n",
              "        text-align: right;\n",
              "    }\n",
              "</style>\n",
              "<table border=\"1\" class=\"dataframe\">\n",
              "  <thead>\n",
              "    <tr style=\"text-align: right;\">\n",
              "      <th></th>\n",
              "      <th>Time</th>\n",
              "      <th>V1</th>\n",
              "      <th>V2</th>\n",
              "      <th>V3</th>\n",
              "      <th>V4</th>\n",
              "      <th>V5</th>\n",
              "      <th>V6</th>\n",
              "      <th>V7</th>\n",
              "      <th>V8</th>\n",
              "      <th>V9</th>\n",
              "      <th>...</th>\n",
              "      <th>V21</th>\n",
              "      <th>V22</th>\n",
              "      <th>V23</th>\n",
              "      <th>V24</th>\n",
              "      <th>V25</th>\n",
              "      <th>V26</th>\n",
              "      <th>V27</th>\n",
              "      <th>V28</th>\n",
              "      <th>Amount</th>\n",
              "      <th>Class</th>\n",
              "    </tr>\n",
              "  </thead>\n",
              "  <tbody>\n",
              "    <tr>\n",
              "      <th>80760</th>\n",
              "      <td>58642</td>\n",
              "      <td>-0.451383</td>\n",
              "      <td>2.225147</td>\n",
              "      <td>-4.953050</td>\n",
              "      <td>4.342228</td>\n",
              "      <td>-3.656190</td>\n",
              "      <td>-0.020121</td>\n",
              "      <td>-5.407554</td>\n",
              "      <td>-0.748436</td>\n",
              "      <td>-1.362198</td>\n",
              "      <td>...</td>\n",
              "      <td>-0.575924</td>\n",
              "      <td>0.495889</td>\n",
              "      <td>1.154128</td>\n",
              "      <td>-0.016186</td>\n",
              "      <td>-2.079928</td>\n",
              "      <td>-0.554377</td>\n",
              "      <td>0.455179</td>\n",
              "      <td>0.001321</td>\n",
              "      <td>113.92</td>\n",
              "      <td>1.0</td>\n",
              "    </tr>\n",
              "    <tr>\n",
              "      <th>81186</th>\n",
              "      <td>58822</td>\n",
              "      <td>-4.384221</td>\n",
              "      <td>3.264665</td>\n",
              "      <td>-3.077158</td>\n",
              "      <td>3.403594</td>\n",
              "      <td>-1.938075</td>\n",
              "      <td>-1.221081</td>\n",
              "      <td>-3.310317</td>\n",
              "      <td>-1.111975</td>\n",
              "      <td>-1.977593</td>\n",
              "      <td>...</td>\n",
              "      <td>2.076383</td>\n",
              "      <td>-0.990303</td>\n",
              "      <td>-0.330358</td>\n",
              "      <td>0.158378</td>\n",
              "      <td>0.006351</td>\n",
              "      <td>-0.493860</td>\n",
              "      <td>-1.537652</td>\n",
              "      <td>-0.994022</td>\n",
              "      <td>45.64</td>\n",
              "      <td>1.0</td>\n",
              "    </tr>\n",
              "    <tr>\n",
              "      <th>81609</th>\n",
              "      <td>59011</td>\n",
              "      <td>-2.326922</td>\n",
              "      <td>-3.348439</td>\n",
              "      <td>-3.513408</td>\n",
              "      <td>3.175060</td>\n",
              "      <td>-2.815137</td>\n",
              "      <td>-0.203363</td>\n",
              "      <td>-0.892144</td>\n",
              "      <td>0.333226</td>\n",
              "      <td>-0.802005</td>\n",
              "      <td>...</td>\n",
              "      <td>1.226648</td>\n",
              "      <td>-0.695902</td>\n",
              "      <td>-1.478490</td>\n",
              "      <td>-0.061553</td>\n",
              "      <td>0.236155</td>\n",
              "      <td>0.531911</td>\n",
              "      <td>0.302324</td>\n",
              "      <td>0.536375</td>\n",
              "      <td>1389.56</td>\n",
              "      <td>1.0</td>\n",
              "    </tr>\n",
              "    <tr>\n",
              "      <th>82400</th>\n",
              "      <td>59385</td>\n",
              "      <td>-7.626924</td>\n",
              "      <td>-6.976420</td>\n",
              "      <td>-2.077911</td>\n",
              "      <td>3.416754</td>\n",
              "      <td>4.458758</td>\n",
              "      <td>-5.080408</td>\n",
              "      <td>-6.578948</td>\n",
              "      <td>1.760341</td>\n",
              "      <td>-0.599509</td>\n",
              "      <td>...</td>\n",
              "      <td>1.224795</td>\n",
              "      <td>-0.656639</td>\n",
              "      <td>-0.330811</td>\n",
              "      <td>-0.078946</td>\n",
              "      <td>0.270306</td>\n",
              "      <td>0.431119</td>\n",
              "      <td>0.821381</td>\n",
              "      <td>-1.056088</td>\n",
              "      <td>18.98</td>\n",
              "      <td>1.0</td>\n",
              "    </tr>\n",
              "    <tr>\n",
              "      <th>83053</th>\n",
              "      <td>59669</td>\n",
              "      <td>0.326007</td>\n",
              "      <td>1.286638</td>\n",
              "      <td>-2.007181</td>\n",
              "      <td>2.419675</td>\n",
              "      <td>-1.532902</td>\n",
              "      <td>-1.432803</td>\n",
              "      <td>-2.459530</td>\n",
              "      <td>0.617738</td>\n",
              "      <td>-1.125861</td>\n",
              "      <td>...</td>\n",
              "      <td>0.556895</td>\n",
              "      <td>0.169776</td>\n",
              "      <td>-0.174357</td>\n",
              "      <td>0.308061</td>\n",
              "      <td>0.710996</td>\n",
              "      <td>-0.231030</td>\n",
              "      <td>0.580495</td>\n",
              "      <td>0.300984</td>\n",
              "      <td>6.27</td>\n",
              "      <td>1.0</td>\n",
              "    </tr>\n",
              "  </tbody>\n",
              "</table>\n",
              "<p>5 rows × 31 columns</p>\n",
              "</div>\n",
              "      <button class=\"colab-df-convert\" onclick=\"convertToInteractive('df-fcdd4042-ae29-43ef-a24c-fc39a17d0f0f')\"\n",
              "              title=\"Convert this dataframe to an interactive table.\"\n",
              "              style=\"display:none;\">\n",
              "        \n",
              "  <svg xmlns=\"http://www.w3.org/2000/svg\" height=\"24px\"viewBox=\"0 0 24 24\"\n",
              "       width=\"24px\">\n",
              "    <path d=\"M0 0h24v24H0V0z\" fill=\"none\"/>\n",
              "    <path d=\"M18.56 5.44l.94 2.06.94-2.06 2.06-.94-2.06-.94-.94-2.06-.94 2.06-2.06.94zm-11 1L8.5 8.5l.94-2.06 2.06-.94-2.06-.94L8.5 2.5l-.94 2.06-2.06.94zm10 10l.94 2.06.94-2.06 2.06-.94-2.06-.94-.94-2.06-.94 2.06-2.06.94z\"/><path d=\"M17.41 7.96l-1.37-1.37c-.4-.4-.92-.59-1.43-.59-.52 0-1.04.2-1.43.59L10.3 9.45l-7.72 7.72c-.78.78-.78 2.05 0 2.83L4 21.41c.39.39.9.59 1.41.59.51 0 1.02-.2 1.41-.59l7.78-7.78 2.81-2.81c.8-.78.8-2.07 0-2.86zM5.41 20L4 18.59l7.72-7.72 1.47 1.35L5.41 20z\"/>\n",
              "  </svg>\n",
              "      </button>\n",
              "      \n",
              "  <style>\n",
              "    .colab-df-container {\n",
              "      display:flex;\n",
              "      flex-wrap:wrap;\n",
              "      gap: 12px;\n",
              "    }\n",
              "\n",
              "    .colab-df-convert {\n",
              "      background-color: #E8F0FE;\n",
              "      border: none;\n",
              "      border-radius: 50%;\n",
              "      cursor: pointer;\n",
              "      display: none;\n",
              "      fill: #1967D2;\n",
              "      height: 32px;\n",
              "      padding: 0 0 0 0;\n",
              "      width: 32px;\n",
              "    }\n",
              "\n",
              "    .colab-df-convert:hover {\n",
              "      background-color: #E2EBFA;\n",
              "      box-shadow: 0px 1px 2px rgba(60, 64, 67, 0.3), 0px 1px 3px 1px rgba(60, 64, 67, 0.15);\n",
              "      fill: #174EA6;\n",
              "    }\n",
              "\n",
              "    [theme=dark] .colab-df-convert {\n",
              "      background-color: #3B4455;\n",
              "      fill: #D2E3FC;\n",
              "    }\n",
              "\n",
              "    [theme=dark] .colab-df-convert:hover {\n",
              "      background-color: #434B5C;\n",
              "      box-shadow: 0px 1px 3px 1px rgba(0, 0, 0, 0.15);\n",
              "      filter: drop-shadow(0px 1px 2px rgba(0, 0, 0, 0.3));\n",
              "      fill: #FFFFFF;\n",
              "    }\n",
              "  </style>\n",
              "\n",
              "      <script>\n",
              "        const buttonEl =\n",
              "          document.querySelector('#df-fcdd4042-ae29-43ef-a24c-fc39a17d0f0f button.colab-df-convert');\n",
              "        buttonEl.style.display =\n",
              "          google.colab.kernel.accessAllowed ? 'block' : 'none';\n",
              "\n",
              "        async function convertToInteractive(key) {\n",
              "          const element = document.querySelector('#df-fcdd4042-ae29-43ef-a24c-fc39a17d0f0f');\n",
              "          const dataTable =\n",
              "            await google.colab.kernel.invokeFunction('convertToInteractive',\n",
              "                                                     [key], {});\n",
              "          if (!dataTable) return;\n",
              "\n",
              "          const docLinkHtml = 'Like what you see? Visit the ' +\n",
              "            '<a target=\"_blank\" href=https://colab.research.google.com/notebooks/data_table.ipynb>data table notebook</a>'\n",
              "            + ' to learn more about interactive tables.';\n",
              "          element.innerHTML = '';\n",
              "          dataTable['output_type'] = 'display_data';\n",
              "          await google.colab.output.renderOutput(dataTable, element);\n",
              "          const docLink = document.createElement('div');\n",
              "          docLink.innerHTML = docLinkHtml;\n",
              "          element.appendChild(docLink);\n",
              "        }\n",
              "      </script>\n",
              "    </div>\n",
              "  </div>\n",
              "  "
            ]
          },
          "metadata": {},
          "execution_count": 19
        }
      ]
    },
    {
      "cell_type": "code",
      "source": [
        "new_dataset['Class'].value_counts()"
      ],
      "metadata": {
        "colab": {
          "base_uri": "https://localhost:8080/"
        },
        "id": "K7OAJly6y0_G",
        "outputId": "319c7593-d0be-47c2-d6b3-fedbe98d4fe0"
      },
      "execution_count": null,
      "outputs": [
        {
          "output_type": "execute_result",
          "data": {
            "text/plain": [
              "0.0    492\n",
              "1.0    201\n",
              "Name: Class, dtype: int64"
            ]
          },
          "metadata": {},
          "execution_count": 20
        }
      ]
    },
    {
      "cell_type": "code",
      "source": [
        "new_dataset.groupby('Class').mean()"
      ],
      "metadata": {
        "colab": {
          "base_uri": "https://localhost:8080/",
          "height": 237
        },
        "id": "AEFzJBuey7sT",
        "outputId": "6634c06d-c902-41a6-d343-1d4a7680e74a"
      },
      "execution_count": null,
      "outputs": [
        {
          "output_type": "execute_result",
          "data": {
            "text/plain": [
              "               Time        V1        V2        V3        V4        V5  \\\n",
              "Class                                                                   \n",
              "0.0    38819.737805 -0.485489  0.032032  0.550375  0.208500 -0.358885   \n",
              "1.0    33751.094527 -6.422458  4.501157 -8.551463  5.131404 -4.655227   \n",
              "\n",
              "             V6        V7        V8        V9  ...       V20       V21  \\\n",
              "Class                                          ...                       \n",
              "0.0    0.057101 -0.032801  0.070546  0.025028  ... -0.028095  0.009460   \n",
              "1.0   -1.986353 -6.786837  2.973793 -3.072795  ...  0.406912  0.758621   \n",
              "\n",
              "            V22       V23       V24       V25       V26       V27       V28  \\\n",
              "Class                                                                         \n",
              "0.0   -0.117892 -0.074828  0.011072  0.119387  0.026997  0.018351  0.010918   \n",
              "1.0   -0.159979 -0.228778 -0.089971  0.232553  0.091620  0.568499  0.052008   \n",
              "\n",
              "           Amount  \n",
              "Class              \n",
              "0.0    113.472520  \n",
              "1.0     99.628756  \n",
              "\n",
              "[2 rows x 30 columns]"
            ],
            "text/html": [
              "\n",
              "  <div id=\"df-d537ff63-b59d-416a-8423-2264e3051d8f\">\n",
              "    <div class=\"colab-df-container\">\n",
              "      <div>\n",
              "<style scoped>\n",
              "    .dataframe tbody tr th:only-of-type {\n",
              "        vertical-align: middle;\n",
              "    }\n",
              "\n",
              "    .dataframe tbody tr th {\n",
              "        vertical-align: top;\n",
              "    }\n",
              "\n",
              "    .dataframe thead th {\n",
              "        text-align: right;\n",
              "    }\n",
              "</style>\n",
              "<table border=\"1\" class=\"dataframe\">\n",
              "  <thead>\n",
              "    <tr style=\"text-align: right;\">\n",
              "      <th></th>\n",
              "      <th>Time</th>\n",
              "      <th>V1</th>\n",
              "      <th>V2</th>\n",
              "      <th>V3</th>\n",
              "      <th>V4</th>\n",
              "      <th>V5</th>\n",
              "      <th>V6</th>\n",
              "      <th>V7</th>\n",
              "      <th>V8</th>\n",
              "      <th>V9</th>\n",
              "      <th>...</th>\n",
              "      <th>V20</th>\n",
              "      <th>V21</th>\n",
              "      <th>V22</th>\n",
              "      <th>V23</th>\n",
              "      <th>V24</th>\n",
              "      <th>V25</th>\n",
              "      <th>V26</th>\n",
              "      <th>V27</th>\n",
              "      <th>V28</th>\n",
              "      <th>Amount</th>\n",
              "    </tr>\n",
              "    <tr>\n",
              "      <th>Class</th>\n",
              "      <th></th>\n",
              "      <th></th>\n",
              "      <th></th>\n",
              "      <th></th>\n",
              "      <th></th>\n",
              "      <th></th>\n",
              "      <th></th>\n",
              "      <th></th>\n",
              "      <th></th>\n",
              "      <th></th>\n",
              "      <th></th>\n",
              "      <th></th>\n",
              "      <th></th>\n",
              "      <th></th>\n",
              "      <th></th>\n",
              "      <th></th>\n",
              "      <th></th>\n",
              "      <th></th>\n",
              "      <th></th>\n",
              "      <th></th>\n",
              "      <th></th>\n",
              "    </tr>\n",
              "  </thead>\n",
              "  <tbody>\n",
              "    <tr>\n",
              "      <th>0.0</th>\n",
              "      <td>38819.737805</td>\n",
              "      <td>-0.485489</td>\n",
              "      <td>0.032032</td>\n",
              "      <td>0.550375</td>\n",
              "      <td>0.208500</td>\n",
              "      <td>-0.358885</td>\n",
              "      <td>0.057101</td>\n",
              "      <td>-0.032801</td>\n",
              "      <td>0.070546</td>\n",
              "      <td>0.025028</td>\n",
              "      <td>...</td>\n",
              "      <td>-0.028095</td>\n",
              "      <td>0.009460</td>\n",
              "      <td>-0.117892</td>\n",
              "      <td>-0.074828</td>\n",
              "      <td>0.011072</td>\n",
              "      <td>0.119387</td>\n",
              "      <td>0.026997</td>\n",
              "      <td>0.018351</td>\n",
              "      <td>0.010918</td>\n",
              "      <td>113.472520</td>\n",
              "    </tr>\n",
              "    <tr>\n",
              "      <th>1.0</th>\n",
              "      <td>33751.094527</td>\n",
              "      <td>-6.422458</td>\n",
              "      <td>4.501157</td>\n",
              "      <td>-8.551463</td>\n",
              "      <td>5.131404</td>\n",
              "      <td>-4.655227</td>\n",
              "      <td>-1.986353</td>\n",
              "      <td>-6.786837</td>\n",
              "      <td>2.973793</td>\n",
              "      <td>-3.072795</td>\n",
              "      <td>...</td>\n",
              "      <td>0.406912</td>\n",
              "      <td>0.758621</td>\n",
              "      <td>-0.159979</td>\n",
              "      <td>-0.228778</td>\n",
              "      <td>-0.089971</td>\n",
              "      <td>0.232553</td>\n",
              "      <td>0.091620</td>\n",
              "      <td>0.568499</td>\n",
              "      <td>0.052008</td>\n",
              "      <td>99.628756</td>\n",
              "    </tr>\n",
              "  </tbody>\n",
              "</table>\n",
              "<p>2 rows × 30 columns</p>\n",
              "</div>\n",
              "      <button class=\"colab-df-convert\" onclick=\"convertToInteractive('df-d537ff63-b59d-416a-8423-2264e3051d8f')\"\n",
              "              title=\"Convert this dataframe to an interactive table.\"\n",
              "              style=\"display:none;\">\n",
              "        \n",
              "  <svg xmlns=\"http://www.w3.org/2000/svg\" height=\"24px\"viewBox=\"0 0 24 24\"\n",
              "       width=\"24px\">\n",
              "    <path d=\"M0 0h24v24H0V0z\" fill=\"none\"/>\n",
              "    <path d=\"M18.56 5.44l.94 2.06.94-2.06 2.06-.94-2.06-.94-.94-2.06-.94 2.06-2.06.94zm-11 1L8.5 8.5l.94-2.06 2.06-.94-2.06-.94L8.5 2.5l-.94 2.06-2.06.94zm10 10l.94 2.06.94-2.06 2.06-.94-2.06-.94-.94-2.06-.94 2.06-2.06.94z\"/><path d=\"M17.41 7.96l-1.37-1.37c-.4-.4-.92-.59-1.43-.59-.52 0-1.04.2-1.43.59L10.3 9.45l-7.72 7.72c-.78.78-.78 2.05 0 2.83L4 21.41c.39.39.9.59 1.41.59.51 0 1.02-.2 1.41-.59l7.78-7.78 2.81-2.81c.8-.78.8-2.07 0-2.86zM5.41 20L4 18.59l7.72-7.72 1.47 1.35L5.41 20z\"/>\n",
              "  </svg>\n",
              "      </button>\n",
              "      \n",
              "  <style>\n",
              "    .colab-df-container {\n",
              "      display:flex;\n",
              "      flex-wrap:wrap;\n",
              "      gap: 12px;\n",
              "    }\n",
              "\n",
              "    .colab-df-convert {\n",
              "      background-color: #E8F0FE;\n",
              "      border: none;\n",
              "      border-radius: 50%;\n",
              "      cursor: pointer;\n",
              "      display: none;\n",
              "      fill: #1967D2;\n",
              "      height: 32px;\n",
              "      padding: 0 0 0 0;\n",
              "      width: 32px;\n",
              "    }\n",
              "\n",
              "    .colab-df-convert:hover {\n",
              "      background-color: #E2EBFA;\n",
              "      box-shadow: 0px 1px 2px rgba(60, 64, 67, 0.3), 0px 1px 3px 1px rgba(60, 64, 67, 0.15);\n",
              "      fill: #174EA6;\n",
              "    }\n",
              "\n",
              "    [theme=dark] .colab-df-convert {\n",
              "      background-color: #3B4455;\n",
              "      fill: #D2E3FC;\n",
              "    }\n",
              "\n",
              "    [theme=dark] .colab-df-convert:hover {\n",
              "      background-color: #434B5C;\n",
              "      box-shadow: 0px 1px 3px 1px rgba(0, 0, 0, 0.15);\n",
              "      filter: drop-shadow(0px 1px 2px rgba(0, 0, 0, 0.3));\n",
              "      fill: #FFFFFF;\n",
              "    }\n",
              "  </style>\n",
              "\n",
              "      <script>\n",
              "        const buttonEl =\n",
              "          document.querySelector('#df-d537ff63-b59d-416a-8423-2264e3051d8f button.colab-df-convert');\n",
              "        buttonEl.style.display =\n",
              "          google.colab.kernel.accessAllowed ? 'block' : 'none';\n",
              "\n",
              "        async function convertToInteractive(key) {\n",
              "          const element = document.querySelector('#df-d537ff63-b59d-416a-8423-2264e3051d8f');\n",
              "          const dataTable =\n",
              "            await google.colab.kernel.invokeFunction('convertToInteractive',\n",
              "                                                     [key], {});\n",
              "          if (!dataTable) return;\n",
              "\n",
              "          const docLinkHtml = 'Like what you see? Visit the ' +\n",
              "            '<a target=\"_blank\" href=https://colab.research.google.com/notebooks/data_table.ipynb>data table notebook</a>'\n",
              "            + ' to learn more about interactive tables.';\n",
              "          element.innerHTML = '';\n",
              "          dataTable['output_type'] = 'display_data';\n",
              "          await google.colab.output.renderOutput(dataTable, element);\n",
              "          const docLink = document.createElement('div');\n",
              "          docLink.innerHTML = docLinkHtml;\n",
              "          element.appendChild(docLink);\n",
              "        }\n",
              "      </script>\n",
              "    </div>\n",
              "  </div>\n",
              "  "
            ]
          },
          "metadata": {},
          "execution_count": 21
        }
      ]
    },
    {
      "cell_type": "markdown",
      "source": [
        "Splitting the data into Features & Targets"
      ],
      "metadata": {
        "id": "_0HwfX6e8EIj"
      }
    },
    {
      "cell_type": "code",
      "source": [
        "X = new_dataset.drop(columns='Class', axis=1)\n",
        "Y = new_dataset['Class']"
      ],
      "metadata": {
        "id": "1ruNuFLdy-KU"
      },
      "execution_count": null,
      "outputs": []
    },
    {
      "cell_type": "code",
      "source": [
        "print(X)"
      ],
      "metadata": {
        "colab": {
          "base_uri": "https://localhost:8080/"
        },
        "id": "13qw3eXGzFVg",
        "outputId": "7a6158b0-dc4f-453c-d721-8f5d12c05b00"
      },
      "execution_count": null,
      "outputs": [
        {
          "output_type": "stream",
          "name": "stdout",
          "text": [
            "        Time        V1        V2        V3        V4        V5        V6  \\\n",
            "50118  44356  1.058652  0.287390  0.554697  2.640415 -0.504271 -0.828845   \n",
            "68851  53166  1.222401  0.582456 -0.344752  0.762416  0.046813 -1.194871   \n",
            "2605    2132  0.886310 -0.860400  0.867378  0.179924 -1.070001  0.194305   \n",
            "61957  50064  1.063953 -0.878226  1.741909  0.567577 -1.669535  0.858634   \n",
            "55465  46952  0.975729 -0.220530  0.191831  0.602450 -0.334165 -0.489342   \n",
            "...      ...       ...       ...       ...       ...       ...       ...   \n",
            "80760  58642 -0.451383  2.225147 -4.953050  4.342228 -3.656190 -0.020121   \n",
            "81186  58822 -4.384221  3.264665 -3.077158  3.403594 -1.938075 -1.221081   \n",
            "81609  59011 -2.326922 -3.348439 -3.513408  3.175060 -2.815137 -0.203363   \n",
            "82400  59385 -7.626924 -6.976420 -2.077911  3.416754  4.458758 -5.080408   \n",
            "83053  59669  0.326007  1.286638 -2.007181  2.419675 -1.532902 -1.432803   \n",
            "\n",
            "             V7        V8        V9  ...       V20       V21       V22  \\\n",
            "50118  0.175563 -0.077214 -0.506164  ... -0.179200  0.042434 -0.145623   \n",
            "68851  0.323131 -0.204881 -0.489564  ... -0.048737 -0.068653 -0.160993   \n",
            "2605  -0.496628  0.133733  0.827942  ...  0.317270 -0.098469 -0.376944   \n",
            "61957 -1.494906  0.680319  1.977578  ... -0.293461 -0.060720  0.223444   \n",
            "55465  0.213647 -0.175433 -0.056937  ...  0.194309  0.155500  0.273199   \n",
            "...         ...       ...       ...  ...       ...       ...       ...   \n",
            "80760 -5.407554 -0.748436 -1.362198  ...  0.724381 -0.575924  0.495889   \n",
            "81186 -3.310317 -1.111975 -1.977593  ... -0.141533  2.076383 -0.990303   \n",
            "81609 -0.892144  0.333226 -0.802005  ...  3.209171  1.226648 -0.695902   \n",
            "82400 -6.578948  1.760341 -0.599509  ...  2.875260  1.224795 -0.656639   \n",
            "83053 -2.459530  0.617738 -1.125861  ...  0.222667  0.556895  0.169776   \n",
            "\n",
            "            V23       V24       V25       V26       V27       V28   Amount  \n",
            "50118 -0.044187  0.660319  0.429259  0.016725 -0.042459  0.028615    64.63  \n",
            "68851 -0.070876  0.459055  0.526713  0.337354 -0.035077  0.029342     0.76  \n",
            "2605  -0.122137  0.107513  0.118704  0.926029 -0.062515  0.030073   166.74  \n",
            "61957  0.043236  0.277179  0.058232  1.135030  0.005154 -0.000231     1.00  \n",
            "55465 -0.168238  0.168323  0.407964  0.547013 -0.046098  0.030781   134.94  \n",
            "...         ...       ...       ...       ...       ...       ...      ...  \n",
            "80760  1.154128 -0.016186 -2.079928 -0.554377  0.455179  0.001321   113.92  \n",
            "81186 -0.330358  0.158378  0.006351 -0.493860 -1.537652 -0.994022    45.64  \n",
            "81609 -1.478490 -0.061553  0.236155  0.531911  0.302324  0.536375  1389.56  \n",
            "82400 -0.330811 -0.078946  0.270306  0.431119  0.821381 -1.056088    18.98  \n",
            "83053 -0.174357  0.308061  0.710996 -0.231030  0.580495  0.300984     6.27  \n",
            "\n",
            "[693 rows x 30 columns]\n"
          ]
        }
      ]
    },
    {
      "cell_type": "code",
      "source": [
        "print(Y)"
      ],
      "metadata": {
        "colab": {
          "base_uri": "https://localhost:8080/"
        },
        "id": "v6CsZN-GzHgv",
        "outputId": "81a0b02e-e560-4084-d175-aef066719756"
      },
      "execution_count": null,
      "outputs": [
        {
          "output_type": "stream",
          "name": "stdout",
          "text": [
            "50118    0.0\n",
            "68851    0.0\n",
            "2605     0.0\n",
            "61957    0.0\n",
            "55465    0.0\n",
            "        ... \n",
            "80760    1.0\n",
            "81186    1.0\n",
            "81609    1.0\n",
            "82400    1.0\n",
            "83053    1.0\n",
            "Name: Class, Length: 693, dtype: float64\n"
          ]
        }
      ]
    },
    {
      "cell_type": "code",
      "source": [
        "X_train, X_test, Y_train, Y_test = train_test_split(X, Y, test_size=0.2, stratify=Y, random_state=2)"
      ],
      "metadata": {
        "id": "YmFoFgo6zSzl"
      },
      "execution_count": null,
      "outputs": []
    },
    {
      "cell_type": "code",
      "source": [
        "print(X.shape, X_train.shape, X_test.shape)"
      ],
      "metadata": {
        "colab": {
          "base_uri": "https://localhost:8080/"
        },
        "id": "nly7EGcFziVl",
        "outputId": "ebd8a656-474b-4244-b1ff-7095d9049212"
      },
      "execution_count": null,
      "outputs": [
        {
          "output_type": "stream",
          "name": "stdout",
          "text": [
            "(693, 30) (554, 30) (139, 30)\n"
          ]
        }
      ]
    },
    {
      "cell_type": "markdown",
      "source": [
        "Model Training"
      ],
      "metadata": {
        "id": "Mghs-9Ri8hSo"
      }
    },
    {
      "cell_type": "markdown",
      "source": [
        "Logistic Regression"
      ],
      "metadata": {
        "id": "cx1Awu0o8WT_"
      }
    },
    {
      "cell_type": "code",
      "source": [
        "model = LogisticRegression()"
      ],
      "metadata": {
        "id": "w2g3ZQ3qznqZ"
      },
      "execution_count": null,
      "outputs": []
    },
    {
      "cell_type": "code",
      "source": [
        "model.fit(X_train, Y_train)"
      ],
      "metadata": {
        "colab": {
          "base_uri": "https://localhost:8080/"
        },
        "id": "F0wL347yzs0C",
        "outputId": "99e74aad-7532-4780-e354-be3261832434"
      },
      "execution_count": null,
      "outputs": [
        {
          "output_type": "stream",
          "name": "stderr",
          "text": [
            "/usr/local/lib/python3.7/dist-packages/sklearn/linear_model/_logistic.py:818: ConvergenceWarning: lbfgs failed to converge (status=1):\n",
            "STOP: TOTAL NO. of ITERATIONS REACHED LIMIT.\n",
            "\n",
            "Increase the number of iterations (max_iter) or scale the data as shown in:\n",
            "    https://scikit-learn.org/stable/modules/preprocessing.html\n",
            "Please also refer to the documentation for alternative solver options:\n",
            "    https://scikit-learn.org/stable/modules/linear_model.html#logistic-regression\n",
            "  extra_warning_msg=_LOGISTIC_SOLVER_CONVERGENCE_MSG,\n"
          ]
        },
        {
          "output_type": "execute_result",
          "data": {
            "text/plain": [
              "LogisticRegression()"
            ]
          },
          "metadata": {},
          "execution_count": 28
        }
      ]
    },
    {
      "cell_type": "markdown",
      "source": [
        "Model Evaluation"
      ],
      "metadata": {
        "id": "9g_PqFFI8srZ"
      }
    },
    {
      "cell_type": "markdown",
      "source": [
        "Accuracy Score"
      ],
      "metadata": {
        "id": "qSrFJTf_8tr-"
      }
    },
    {
      "cell_type": "code",
      "source": [
        "# accuracy on training data\n",
        "X_train_prediction = model.predict(X_train)\n",
        "training_data_accuracy = accuracy_score(X_train_prediction, Y_train)"
      ],
      "metadata": {
        "id": "XFsHEI8XzxfU"
      },
      "execution_count": null,
      "outputs": []
    },
    {
      "cell_type": "code",
      "source": [
        "print('Accuracy on Training data : ', training_data_accuracy)"
      ],
      "metadata": {
        "colab": {
          "base_uri": "https://localhost:8080/"
        },
        "id": "XeRQyuN5z3EE",
        "outputId": "6b052398-d3b4-4aa4-cb86-613c9883ffe4"
      },
      "execution_count": null,
      "outputs": [
        {
          "output_type": "stream",
          "name": "stdout",
          "text": [
            "Accuracy on Training data :  0.9657039711191335\n"
          ]
        }
      ]
    },
    {
      "cell_type": "code",
      "source": [
        "# accuracy on test data\n",
        "X_test_prediction = model.predict(X_test)\n",
        "test_data_accuracy = accuracy_score(X_test_prediction, Y_test)"
      ],
      "metadata": {
        "id": "ivD2lCWoz9eU"
      },
      "execution_count": null,
      "outputs": []
    },
    {
      "cell_type": "code",
      "source": [
        "print('Accuracy score on Test Data : ', test_data_accuracy)"
      ],
      "metadata": {
        "colab": {
          "base_uri": "https://localhost:8080/"
        },
        "id": "qiMpW2e50GEz",
        "outputId": "6f2719c3-76a5-4674-e4c1-b4b310c6b10d"
      },
      "execution_count": null,
      "outputs": [
        {
          "output_type": "stream",
          "name": "stdout",
          "text": [
            "Accuracy score on Test Data :  0.9496402877697842\n"
          ]
        }
      ]
    }
  ]
}